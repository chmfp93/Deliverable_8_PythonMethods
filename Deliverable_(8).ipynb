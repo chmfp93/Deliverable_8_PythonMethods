{
  "nbformat": 4,
  "nbformat_minor": 0,
  "metadata": {
    "colab": {
      "provenance": []
    },
    "kernelspec": {
      "name": "python3",
      "display_name": "Python 3"
    },
    "language_info": {
      "name": "python"
    }
  },
  "cells": [
    {
      "cell_type": "code",
      "source": [
        "# Author: Carlos M. Figueroa Palomino\n",
        "# Date: 3/22/2023\n",
        "# Description: Python code that populates a list of numbers between 10 and 50 with a lenght equal to the user's entry and then adds up all the list's elements."
      ],
      "metadata": {
        "id": "E1Maag7qd43O"
      },
      "execution_count": null,
      "outputs": []
    },
    {
      "cell_type": "code",
      "execution_count": 1,
      "metadata": {
        "id": "x9oKr8VrhO5H"
      },
      "outputs": [],
      "source": [
        "import numpy as np"
      ]
    },
    {
      "cell_type": "code",
      "source": [
        "def random_list(list):\n",
        "  rlist = np.random.randint(10,50,n)\n",
        "  return rlist\n",
        "\n",
        "def sum_random (list):\n",
        "  return sum(list)"
      ],
      "metadata": {
        "id": "CdPAX5pFheah"
      },
      "execution_count": 2,
      "outputs": []
    },
    {
      "cell_type": "code",
      "source": [
        "n =int(0)\n",
        "\n",
        "while n < 5 or n > 15:\n",
        "  n = int(input(\"Enter some integer between 5 and 15: \"))"
      ],
      "metadata": {
        "colab": {
          "base_uri": "https://localhost:8080/"
        },
        "id": "Zf1L0_B2ikGX",
        "outputId": "30d84501-a390-4798-8c60-4515f7164106"
      },
      "execution_count": 4,
      "outputs": [
        {
          "name": "stdout",
          "output_type": "stream",
          "text": [
            "Enter some integer between 5 and 15: 4\n",
            "Enter some integer between 5 and 15: 16\n",
            "Enter some integer between 5 and 15: 10\n"
          ]
        }
      ]
    },
    {
      "cell_type": "code",
      "source": [
        "MyList = random_list(n)\n",
        "MyList"
      ],
      "metadata": {
        "colab": {
          "base_uri": "https://localhost:8080/"
        },
        "id": "nu7w73njjfLP",
        "outputId": "7ceaa534-fbb6-4e3b-ad68-df2764fa4bd8"
      },
      "execution_count": 5,
      "outputs": [
        {
          "output_type": "execute_result",
          "data": {
            "text/plain": [
              "array([23, 11, 12, 39, 42, 43, 18, 10, 36, 37])"
            ]
          },
          "metadata": {},
          "execution_count": 5
        }
      ]
    },
    {
      "cell_type": "code",
      "source": [
        "MySum = sum_random(MyList)\n",
        "MySum"
      ],
      "metadata": {
        "colab": {
          "base_uri": "https://localhost:8080/"
        },
        "id": "M-WuFSs1jjD_",
        "outputId": "492ef435-5d9a-4cfc-9c99-dfd5fefebb4a"
      },
      "execution_count": 6,
      "outputs": [
        {
          "output_type": "execute_result",
          "data": {
            "text/plain": [
              "271"
            ]
          },
          "metadata": {},
          "execution_count": 6
        }
      ]
    }
  ]
}